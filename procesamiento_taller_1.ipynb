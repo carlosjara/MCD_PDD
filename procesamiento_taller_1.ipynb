{
 "cells": [
  {
   "cell_type": "code",
   "execution_count": 1,
   "id": "4261564e-7510-43f0-b8b9-8352d5970f66",
   "metadata": {},
   "outputs": [],
   "source": [
    "import pandas as pd\n",
    "import matplotlib.pyplot as plt\n",
    "\n",
    "import warnings\n",
    "# Ignorar todas las advertencias\n",
    "warnings.filterwarnings(\"ignore\")"
   ]
  },
  {
   "cell_type": "code",
   "execution_count": 2,
   "id": "e40e72e1-ce0b-4be0-8e28-24296d0576fb",
   "metadata": {},
   "outputs": [],
   "source": [
    "archivo_csv = 'F:\\CarlosJaramillo\\ICESI\\datos-mcd\\9. data\\output-26-APR-19.csv'\n",
    "archivo_headers_csv = 'F:\\CarlosJaramillo\\ICESI\\datos-mcd\\9. data\\output-26-APR-19_.csv'\n",
    "df = pd.read_csv(archivo_csv,sep=',')"
   ]
  },
  {
   "cell_type": "code",
   "execution_count": 3,
   "id": "6e26bc6c-51ef-4be5-9a9e-6dc87d03b261",
   "metadata": {},
   "outputs": [],
   "source": [
    "headers = [\"FEC_COL1\", \"COD_COL2\", \"COD_COL3\", \"COD_LAT\",\"COD_LONG\",\"COD_COL6\",\"COD_COL7\",\"COD_COL8\",\"COD_COL9\",\"COD_COL10\",\"FEC_COL11\",\"COD_COL12\"] \n",
    "with open(archivo_csv, 'r') as f:\n",
    "    # Read the content of the file\n",
    "    content = f.readlines()\n",
    "\n",
    "# Add headers to the content\n",
    "content_with_headers = [\",\".join(headers) + \"\\n\"] + content\n",
    "\n",
    "# Write the modified content to the output file\n",
    "with open(archivo_headers_csv, 'w') as f:\n",
    "    f.writelines(content_with_headers)"
   ]
  },
  {
   "cell_type": "code",
   "execution_count": 4,
   "id": "625d0492-bf3a-45db-b23a-66d68e779c0b",
   "metadata": {},
   "outputs": [],
   "source": [
    "dfh = pd.read_csv(archivo_headers_csv,sep=',')"
   ]
  },
  {
   "cell_type": "code",
   "execution_count": 5,
   "id": "c1f5023e-d144-4828-bcf4-bf202a973f95",
   "metadata": {},
   "outputs": [
    {
     "data": {
      "text/plain": [
       "Index(['FEC_COL1', 'COD_COL2', 'COD_COL3', 'COD_LAT', 'COD_LONG', 'COD_COL6',\n",
       "       'COD_COL7', 'COD_COL8', 'COD_COL9', 'COD_COL10', 'FEC_COL11',\n",
       "       'COD_COL12'],\n",
       "      dtype='object')"
      ]
     },
     "execution_count": 5,
     "metadata": {},
     "output_type": "execute_result"
    }
   ],
   "source": [
    "dfh.columns"
   ]
  },
  {
   "cell_type": "code",
   "execution_count": 6,
   "id": "90d2d4e3-97d1-4516-af3e-1670adf209f2",
   "metadata": {},
   "outputs": [
    {
     "name": "stdout",
     "output_type": "stream",
     "text": [
      "<class 'pandas.core.frame.DataFrame'>\n",
      "RangeIndex: 2403018 entries, 0 to 2403017\n",
      "Data columns (total 12 columns):\n",
      " #   Column     Dtype \n",
      "---  ------     ----- \n",
      " 0   FEC_COL1   int64 \n",
      " 1   COD_COL2   object\n",
      " 2   COD_COL3   int64 \n",
      " 3   COD_LAT    int64 \n",
      " 4   COD_LONG   int64 \n",
      " 5   COD_COL6   int64 \n",
      " 6   COD_COL7   int64 \n",
      " 7   COD_COL8   int64 \n",
      " 8   COD_COL9   int64 \n",
      " 9   COD_COL10  int64 \n",
      " 10  FEC_COL11  object\n",
      " 11  COD_COL12  int64 \n",
      "dtypes: int64(10), object(2)\n",
      "memory usage: 220.0+ MB\n"
     ]
    }
   ],
   "source": [
    "dfh.info()"
   ]
  },
  {
   "cell_type": "code",
   "execution_count": 7,
   "id": "f897c322-2c4d-42ab-a7d8-06dd07442352",
   "metadata": {},
   "outputs": [
    {
     "name": "stdout",
     "output_type": "stream",
     "text": [
      "Filas: 2403018, Columnas: 12\n"
     ]
    }
   ],
   "source": [
    "print(f\"Filas: {dfh.shape[0]}, Columnas: {dfh.shape[1]}\") "
   ]
  },
  {
   "cell_type": "code",
   "execution_count": 9,
   "id": "9cd5885e-7b1c-444d-a1d5-5fa1c65aa8f8",
   "metadata": {
    "tags": []
   },
   "outputs": [
    {
     "data": {
      "text/html": [
       "<div>\n",
       "<style scoped>\n",
       "    .dataframe tbody tr th:only-of-type {\n",
       "        vertical-align: middle;\n",
       "    }\n",
       "\n",
       "    .dataframe tbody tr th {\n",
       "        vertical-align: top;\n",
       "    }\n",
       "\n",
       "    .dataframe thead th {\n",
       "        text-align: right;\n",
       "    }\n",
       "</style>\n",
       "<table border=\"1\" class=\"dataframe\">\n",
       "  <thead>\n",
       "    <tr style=\"text-align: right;\">\n",
       "      <th></th>\n",
       "      <th>FEC_COL1</th>\n",
       "      <th>COD_COL2</th>\n",
       "      <th>COD_COL3</th>\n",
       "      <th>COD_LAT</th>\n",
       "      <th>COD_LONG</th>\n",
       "      <th>COD_COL6</th>\n",
       "      <th>COD_COL7</th>\n",
       "      <th>COD_COL8</th>\n",
       "      <th>COD_COL9</th>\n",
       "      <th>COD_COL10</th>\n",
       "      <th>FEC_COL11</th>\n",
       "      <th>COD_COL12</th>\n",
       "    </tr>\n",
       "  </thead>\n",
       "  <tbody>\n",
       "    <tr>\n",
       "      <th>2117012</th>\n",
       "      <td>0</td>\n",
       "      <td>26-APR-19</td>\n",
       "      <td>-1</td>\n",
       "      <td>-1</td>\n",
       "      <td>34975367</td>\n",
       "      <td>-765026483</td>\n",
       "      <td>-1</td>\n",
       "      <td>-1</td>\n",
       "      <td>-1</td>\n",
       "      <td>6181975197</td>\n",
       "      <td>2019-04-26 00:25:25</td>\n",
       "      <td>1202</td>\n",
       "    </tr>\n",
       "    <tr>\n",
       "      <th>2117013</th>\n",
       "      <td>0</td>\n",
       "      <td>26-APR-19</td>\n",
       "      <td>-1</td>\n",
       "      <td>-1</td>\n",
       "      <td>34975000</td>\n",
       "      <td>-765007900</td>\n",
       "      <td>-1</td>\n",
       "      <td>-1</td>\n",
       "      <td>-1</td>\n",
       "      <td>6181975198</td>\n",
       "      <td>2019-04-26 00:25:25</td>\n",
       "      <td>1173</td>\n",
       "    </tr>\n",
       "    <tr>\n",
       "      <th>2117014</th>\n",
       "      <td>0</td>\n",
       "      <td>26-APR-19</td>\n",
       "      <td>500110</td>\n",
       "      <td>3508</td>\n",
       "      <td>34963717</td>\n",
       "      <td>-765037517</td>\n",
       "      <td>-1</td>\n",
       "      <td>999</td>\n",
       "      <td>-1</td>\n",
       "      <td>6181975199</td>\n",
       "      <td>2019-04-26 00:25:25</td>\n",
       "      <td>191</td>\n",
       "    </tr>\n",
       "  </tbody>\n",
       "</table>\n",
       "</div>"
      ],
      "text/plain": [
       "         FEC_COL1   COD_COL2  COD_COL3  COD_LAT  COD_LONG   COD_COL6  \\\n",
       "2117012         0  26-APR-19        -1       -1  34975367 -765026483   \n",
       "2117013         0  26-APR-19        -1       -1  34975000 -765007900   \n",
       "2117014         0  26-APR-19    500110     3508  34963717 -765037517   \n",
       "\n",
       "         COD_COL7  COD_COL8  COD_COL9   COD_COL10            FEC_COL11  \\\n",
       "2117012        -1        -1        -1  6181975197  2019-04-26 00:25:25   \n",
       "2117013        -1        -1        -1  6181975198  2019-04-26 00:25:25   \n",
       "2117014        -1       999        -1  6181975199  2019-04-26 00:25:25   \n",
       "\n",
       "         COD_COL12  \n",
       "2117012       1202  \n",
       "2117013       1173  \n",
       "2117014        191  "
      ]
     },
     "execution_count": 9,
     "metadata": {},
     "output_type": "execute_result"
    }
   ],
   "source": [
    "dfh[dfh['FEC_COL11']=='2019-04-26 00:25:25'].head(3)"
   ]
  },
  {
   "cell_type": "code",
   "execution_count": 10,
   "id": "57a5c59c-5c43-4dd7-a042-c33a2660b012",
   "metadata": {},
   "outputs": [
    {
     "name": "stdout",
     "output_type": "stream",
     "text": [
      "Total con este comportamiento:  9\n"
     ]
    }
   ],
   "source": [
    "print(\"Total con este comportamiento: \",(dfh['FEC_COL11'] == '2019-04-26 00:25:25').sum())"
   ]
  },
  {
   "cell_type": "code",
   "execution_count": 11,
   "id": "87a6170d-f87a-46ca-b6d8-b9178ee40561",
   "metadata": {},
   "outputs": [],
   "source": [
    "dfh['FEC_COL11'] = dfh['FEC_COL11'].str.replace(' 24:', ' 00:')"
   ]
  },
  {
   "cell_type": "code",
   "execution_count": 12,
   "id": "4ea82917-f61c-4ffa-a621-8139a49320cc",
   "metadata": {},
   "outputs": [],
   "source": [
    "dfh['FEC_COL11'] = pd.to_datetime(dfh['FEC_COL11'])"
   ]
  },
  {
   "cell_type": "code",
   "execution_count": 13,
   "id": "60ac93bd-4d35-4f3f-b5ab-32aabe2043d2",
   "metadata": {},
   "outputs": [
    {
     "name": "stdout",
     "output_type": "stream",
     "text": [
      "<class 'pandas.core.frame.DataFrame'>\n",
      "RangeIndex: 2403018 entries, 0 to 2403017\n",
      "Data columns (total 12 columns):\n",
      " #   Column     Dtype         \n",
      "---  ------     -----         \n",
      " 0   FEC_COL1   int64         \n",
      " 1   COD_COL2   object        \n",
      " 2   COD_COL3   int64         \n",
      " 3   COD_LAT    int64         \n",
      " 4   COD_LONG   int64         \n",
      " 5   COD_COL6   int64         \n",
      " 6   COD_COL7   int64         \n",
      " 7   COD_COL8   int64         \n",
      " 8   COD_COL9   int64         \n",
      " 9   COD_COL10  int64         \n",
      " 10  FEC_COL11  datetime64[ns]\n",
      " 11  COD_COL12  int64         \n",
      "dtypes: datetime64[ns](1), int64(10), object(1)\n",
      "memory usage: 220.0+ MB\n"
     ]
    }
   ],
   "source": [
    "dfh.info()"
   ]
  },
  {
   "cell_type": "code",
   "execution_count": 14,
   "id": "2c305041-a9db-4d46-848d-9b4b8e3becd9",
   "metadata": {},
   "outputs": [
    {
     "data": {
      "image/png": "[encoded data removed]",
      "text/plain": [
       "<Figure size 1000x600 with 1 Axes>"
      ]
     },
     "metadata": {},
     "output_type": "display_data"
    }
   ],
   "source": [
    "dfh['Hour_Minute'] = dfh['FEC_COL11'].dt.strftime('%H:%M')\n",
    "\n",
    "# agrupacion de cantidades por hora minuto\n",
    "hist_data = dfh.groupby('Hour_Minute').size()\n",
    "\n",
    "\n",
    "hist_data.plot(kind='bar' , figsize=(10, 6))\n",
    "plt.title('Histograma de Datagramas por Hora el 26-04-2024')\n",
    "plt.xlabel('(HH24:MI)')\n",
    "plt.ylabel('datagramas')\n",
    "n = 120  \n",
    "plt.xticks(range(0, len(hist_data), n), hist_data.index[::n], rotation=45)\n",
    "plt.tight_layout()  \n",
    "\n",
    "plt.show()"
   ]
  },
  {
   "cell_type": "code",
   "execution_count": 15,
   "id": "56467ef0-fdf4-45d4-9160-c2a5d2789cbc",
   "metadata": {},
   "outputs": [
    {
     "data": {
      "image/png": "[encoded data removed]",
      "text/plain": [
       "<Figure size 1000x600 with 1 Axes>"
      ]
     },
     "metadata": {},
     "output_type": "display_data"
    }
   ],
   "source": [
    "dfh['Hour'] = dfh['FEC_COL11'].dt.hour\n",
    " \n",
    "hist_data = dfh.groupby('Hour').size()\n",
    "\n",
    "# Plot the histogram\n",
    "hist_data.plot(kind='bar', figsize=(10, 6))\n",
    "plt.title('Histogram of Rows by Hour')\n",
    "plt.xlabel('Hour of the Day')\n",
    "plt.ylabel('Count')\n",
    "plt.show()"
   ]
  },
  {
   "cell_type": "code",
   "execution_count": null,
   "id": "486cb9bc-40de-45ad-85c9-106123af127e",
   "metadata": {},
   "outputs": [],
   "source": []
  }
 ],
 "metadata": {
  "kernelspec": {
   "display_name": "Python 3 (ipykernel)",
   "language": "python",
   "name": "python3"
  },
  "language_info": {
   "codemirror_mode": {
    "name": "ipython",
    "version": 3
   },
   "file_extension": ".py",
   "mimetype": "text/x-python",
   "name": "python",
   "nbconvert_exporter": "python",
   "pygments_lexer": "ipython3",
   "version": "3.10.9"
  }
 },
 "nbformat": 4,
 "nbformat_minor": 5
}
